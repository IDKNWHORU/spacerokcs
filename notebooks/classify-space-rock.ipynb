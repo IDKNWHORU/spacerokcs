{
 "cells": [
  {
   "cell_type": "markdown",
   "id": "5323e962",
   "metadata": {},
   "source": [
    "## 이미지 식별을 위한 라이브러리를 불러온다."
   ]
  },
  {
   "cell_type": "code",
   "execution_count": null,
   "id": "d5116dab",
   "metadata": {},
   "outputs": [],
   "source": [
    "import matplotlib.pyplot as plt\n",
    "import numpy as np\n",
    "import torch\n",
    "from torch import nn, optim\n",
    "import torchvision\n",
    "from torchvision import datasets, transforms, models\n",
    "from PIL import Image\n",
    "%matplotlib inline\n",
    "%config InlineBackend.figure_format = 'retina'"
   ]
  },
  {
   "cell_type": "markdown",
   "id": "a0f9101e",
   "metadata": {},
   "source": [
    "### 데이터 디렉토리, 분할 비율, 변환 방법을 설정한다."
   ]
  },
  {
   "cell_type": "code",
   "execution_count": null,
   "id": "4f70fab0",
   "metadata": {},
   "outputs": [],
   "source": [
    "data_dir = '../data'\n",
    "valid_size = 0.2\n",
    "\n",
    "t_transforms = transforms.Compose([\n",
    "    transforms.RandomResizedCrop(224),\n",
    "    transforms.Resize(224),\n",
    "    transforms.ToTensor()\n",
    "])"
   ]
  },
  {
   "cell_type": "markdown",
   "id": "daf8853a",
   "metadata": {},
   "source": [
    "### (확인) 변환 방법을 출력하여 확인해보기"
   ]
  },
  {
   "cell_type": "code",
   "execution_count": null,
   "id": "47ce09b3",
   "metadata": {},
   "outputs": [],
   "source": [
    "print(t_transforms)"
   ]
  },
  {
   "cell_type": "markdown",
   "id": "06b6a2e3",
   "metadata": {},
   "source": [
    "## 데이터 로더 함수 작성\n",
    "\n",
    "### (연습) trainloader와 testloader를 만들어본다.\n",
    "\n",
    "### 1. 학습 데이터  세트 및 테스트 데이터 세트의 디렉토리 및 변환 방식을 지정한다."
   ]
  },
  {
   "cell_type": "code",
   "execution_count": null,
   "id": "2854bc8e",
   "metadata": {},
   "outputs": [],
   "source": [
    "train_data = datasets.ImageFolder(data_dir, transform=t_transforms)\n",
    "test_data = datasets.ImageFolder(data_dir, transform=t_transforms)\n",
    "\n",
    "print(train_data)\n",
    "\n",
    "print(len(train_data), len(test_data))"
   ]
  },
  {
   "cell_type": "markdown",
   "id": "90417d75",
   "metadata": {},
   "source": [
    "### 2. 데이터세트를 섞기 위해, 우선 인덱스를 만들어 랜덤하게 섞는다."
   ]
  },
  {
   "cell_type": "code",
   "execution_count": null,
   "id": "51079b2a",
   "metadata": {},
   "outputs": [],
   "source": [
    "num_train = len(train_data)\n",
    "indicies = list(range(num_train))\n",
    "print(indicies)\n",
    "\n",
    "np.random.shuffle(indicies)\n",
    "print(indicies)"
   ]
  },
  {
   "cell_type": "markdown",
   "id": "79808df9",
   "metadata": {},
   "source": [
    "### 3. 분할 비율(valid_size)에 따른 지점의 인덱스 값(split)을 계산한다."
   ]
  },
  {
   "cell_type": "code",
   "execution_count": null,
   "id": "557d2299",
   "metadata": {},
   "outputs": [],
   "source": [
    "split = int(np.floor(num_train * valid_size))\n",
    "print(split)"
   ]
  },
  {
   "cell_type": "markdown",
   "id": "dd0054b9",
   "metadata": {},
   "source": [
    "### 4. split을 기준으로 학습 데이터 인덱스 리스트와 테스트 인덱스 리스트로 나눈다."
   ]
  },
  {
   "cell_type": "code",
   "execution_count": null,
   "id": "320b934e",
   "metadata": {},
   "outputs": [],
   "source": [
    "train_idx, test_idx = indicies[split:], indicies[:split]\n",
    "\n",
    "print(train_idx)\n",
    "print(test_idx)"
   ]
  },
  {
   "cell_type": "markdown",
   "id": "3e5f9db4",
   "metadata": {},
   "source": [
    "### 5. 데이터 세트들의 샘플러 및 로더를 만들고 확인한다."
   ]
  },
  {
   "cell_type": "code",
   "execution_count": null,
   "id": "f0fc5e0e",
   "metadata": {},
   "outputs": [],
   "source": [
    "from torch.utils.data.sampler import SubsetRandomSampler\n",
    "train_sampler = SubsetRandomSampler(train_idx)\n",
    "test_sampler = SubsetRandomSampler(test_idx)\n",
    "\n",
    "trainloader = torch.utils.data.DataLoader(train_data, sampler=train_sampler, batch_size=16)\n",
    "testloader = torch.utils.data.DataLoader(test_data, sampler=test_sampler, batch_size=16)\n",
    "\n",
    "print(trainloader.dataset.classes)\n",
    "print(testloader.dataset.classes)"
   ]
  },
  {
   "cell_type": "markdown",
   "id": "c1c444f3",
   "metadata": {},
   "source": [
    "### 코드들을 묶어서 load_split_train_test() 함수를 만든다."
   ]
  },
  {
   "cell_type": "code",
   "execution_count": null,
   "id": "b101f3b2",
   "metadata": {},
   "outputs": [],
   "source": [
    "def load_split_train_test(data_dir, valid_size):\n",
    "    t_transforms = transforms.Compose([\n",
    "        transforms.RandomResizedCrop(224),\n",
    "        transforms.Resize(224),\n",
    "        transforms.ToTensor()\n",
    "    ])\n",
    "\n",
    "    train_data = datasets.ImageFolder(data_dir, transform=t_transforms)\n",
    "    test_data = datasets.ImageFolder(data_dir, transform=t_transforms)\n",
    "    num_train = len(train_data)\n",
    "    indices = list(range(num_train))\n",
    "\n",
    "    np.random.shuffle(indices)\n",
    "    split = int(np.floor(num_train * valid_size))\n",
    "    train_idx, test_idx = indices[split:], indices[:split]\n",
    "    from torch.utils.data.sampler import SubsetRandomSampler\n",
    "\n",
    "    train_sampler = SubsetRandomSampler(train_idx)\n",
    "    test_sampler = SubsetRandomSampler(test_idx)\n",
    "\n",
    "    trainloader = torch.utils.data.DataLoader(train_data, sampler=train_sampler, batch_size=16)\n",
    "    testloader = torch.utils.data.DataLoader(test_data, sampler=test_sampler, batch_size=16)\n",
    "\n",
    "    return trainloader, testloader"
   ]
  },
  {
   "cell_type": "markdown",
   "id": "802f6b4f",
   "metadata": {},
   "source": [
    "### load_split_train_test() 함수를 이용하여 trainloader, testloader를 생성한다."
   ]
  },
  {
   "cell_type": "code",
   "execution_count": null,
   "id": "bd4d5e5c",
   "metadata": {},
   "outputs": [],
   "source": [
    "trainloader, testloader = load_split_train_test(data_dir, 0.2)\n",
    "\n",
    "print(trainloader.dataset.classes)\n",
    "print(testloader.dataset.classes)"
   ]
  },
  {
   "cell_type": "markdown",
   "id": "5371f671",
   "metadata": {},
   "source": [
    "### 이미지 데이터 샘플들을 살펴본다.\n",
    "\n",
    "임의의 데이터를 로딩한 후 이미지와 레이블을 반환하는 get_random_images() 함수를 만든다."
   ]
  },
  {
   "cell_type": "code",
   "execution_count": null,
   "id": "da03caf2",
   "metadata": {},
   "outputs": [],
   "source": [
    "def get_random_images(num):\n",
    "    data = datasets.ImageFolder(data_dir, transform=t_transforms)\n",
    "    indices = list(range(len(data)))\n",
    "    np.random.shuffle(indices)\n",
    "    idx = indices[:num]\n",
    "\n",
    "    from torch.utils.data.sampler import SubsetRandomSampler\n",
    "    sampler = SubsetRandomSampler(idx)\n",
    "    loader = torch.utils.data.DataLoader(data, sampler=sampler, batch_size=num)\n",
    "    dataiter = iter(loader)\n",
    "    images, labels = dataiter.next()\n",
    "\n",
    "    return images, labels"
   ]
  },
  {
   "cell_type": "code",
   "execution_count": null,
   "id": "c9592e61",
   "metadata": {},
   "outputs": [],
   "source": [
    "images, labels = get_random_images(5)\n",
    "to_pil = transforms.ToPILImage()\n",
    "fig = plt.figure(figsize=(20, 20))\n",
    "classes = trainloader.dataset.classes\n",
    "for ii in range(len(images)):\n",
    "    image = to_pil(images[ii])\n",
    "    sub = fig.add_subplot(1, len(images), ii+1)\n",
    "    index = labels[ii].item()\n",
    "    sub.set_title(classes[index])\n",
    "    plt.axis('off')\n",
    "    plt.imshow(image)\n",
    "plt.show()"
   ]
  },
  {
   "cell_type": "markdown",
   "id": "402f1455",
   "metadata": {},
   "source": [
    "### ResNet50 모델을 가져와 FCL(Fully Connected Layer)을 수정한다.\n",
    "\n",
    "Compute device를 정한다(CPU or GPU)"
   ]
  },
  {
   "cell_type": "code",
   "execution_count": null,
   "id": "c60b4c05",
   "metadata": {},
   "outputs": [],
   "source": [
    "device = torch.device('cuda' if torch.cuda.is_available() else 'cpu')\n",
    "print(device)"
   ]
  },
  {
   "cell_type": "markdown",
   "id": "b07ad9ec",
   "metadata": {},
   "source": [
    "### 사전 학습된 ResNet50 모델을 지정한다."
   ]
  },
  {
   "cell_type": "code",
   "execution_count": null,
   "id": "7e884502",
   "metadata": {},
   "outputs": [],
   "source": [
    "model = models.resnet50(pretrained=True)"
   ]
  },
  {
   "cell_type": "markdown",
   "id": "cd570d9d",
   "metadata": {},
   "source": [
    "### (확인) 수정 전의 ResNet50 모델을 확인해 본다."
   ]
  },
  {
   "cell_type": "code",
   "execution_count": null,
   "id": "937a0a83",
   "metadata": {},
   "outputs": [],
   "source": [
    "print(model)"
   ]
  },
  {
   "cell_type": "code",
   "execution_count": null,
   "id": "847dc2e0",
   "metadata": {},
   "outputs": [],
   "source": [
    "for param in model.parameters():\n",
    "    param.requires_grad = False\n",
    "\n",
    "model.fc = nn.Sequential(nn.Linear(2048, 512),\n",
    "                         nn.ReLU(),\n",
    "                         nn.Dropout(0.2),\n",
    "                         nn.Linear(512, 2),\n",
    "                         nn.LogSoftmax(dim=1))\n",
    "criterion = nn.NLLLoss()\n",
    "optimizer = optim.Adam(model.fc.parameters(), lr=0.003)\n",
    "model.to(device)\n",
    "print('done!')"
   ]
  },
  {
   "cell_type": "markdown",
   "id": "80c09b4f",
   "metadata": {},
   "source": [
    "### (확인) FCL을 확인해 본다."
   ]
  },
  {
   "cell_type": "code",
   "execution_count": null,
   "id": "66b1b04b",
   "metadata": {},
   "outputs": [],
   "source": [
    "print(model.fc)"
   ]
  },
  {
   "cell_type": "markdown",
   "id": "cc2ebcb0",
   "metadata": {},
   "source": [
    "### 모델의 FCL을 학습시키고 테스트 한다.\n",
    "\n",
    "모델 학습/검증을 위한 변수를 설정한다."
   ]
  },
  {
   "cell_type": "code",
   "execution_count": null,
   "id": "b3de70cc",
   "metadata": {},
   "outputs": [],
   "source": [
    "epochs = 10\n",
    "print_every = 5\n",
    "running_loss = 0\n",
    "train_losses, test_losses = [], []\n",
    "steps = 0"
   ]
  },
  {
   "cell_type": "code",
   "execution_count": null,
   "id": "15708349",
   "metadata": {},
   "outputs": [],
   "source": [
    "for epoch in range(epochs) :\n",
    "    epoch += 1\n",
    "    for inputs, labels in trainloader:\n",
    "        steps += 1\n",
    "        print('Training step ', steps)\n",
    "        inputs, labels = inputs.to(device), labels.to(device)\n",
    "        optimizer.zero_grad()\n",
    "        logps = model.forward(inputs)\n",
    "        loss = criterion(logps, labels)\n",
    "        loss.backward()\n",
    "        optimizer.step()\n",
    "        running_loss += loss.item()\n",
    "\n",
    "        if steps % print_every == 0:\n",
    "            test_loss = 0\n",
    "            accuracy = 0\n",
    "            model.eval()\n",
    "            with torch.no_grad():\n",
    "                for inputs, labels in testloader:\n",
    "                    inputs, labels = inputs.to(device), labels.to(device)\n",
    "                    logps = model.forward(inputs)\n",
    "                    batch_loss = criterion(logps, labels)\n",
    "                    test_loss += batch_loss.item()\n",
    "                    ps = torch.exp(logps)\n",
    "                    top_p, top_class = ps.topk(1, dim=1)\n",
    "                    equals = top_class == labels.view(*top_class.shape)\n",
    "                    accuracy += torch.mean(equals.type(torch.FloatTensor)).item()\n",
    "            train_losses.append(running_loss/len(trainloader))\n",
    "            test_losses.append(test_loss/len(testloader))\n",
    "            print(\"Epoch {}/{}: \".format(epoch, epochs),\n",
    "                \"Train loss: {:.3f}.. \".format(running_loss/print_every),\n",
    "                \"Test loss: {:.3f}.. \".format(test_loss/len(testloader)),\n",
    "                \"Test accuracy: {:.3f}\\n\".format(accuracy/len(testloader)))\n",
    "            running_loss = 0\n",
    "            model.train()\n",
    "            break"
   ]
  },
  {
   "cell_type": "markdown",
   "id": "b60327bf",
   "metadata": {},
   "source": [
    "### (확인) 학습 손실값과 테스트 손실값을 그래프로 확인한다."
   ]
  },
  {
   "cell_type": "code",
   "execution_count": null,
   "id": "571aa1ce",
   "metadata": {},
   "outputs": [],
   "source": [
    "%matplotlib inline\n",
    "%config InlineBackend.figure_format = 'retina'\n",
    "\n",
    "plt.plot(train_losses, label='training loss')\n",
    "plt.plot(test_losses, label='Validation loss')\n",
    "plt.legend(frameon=False)"
   ]
  },
  {
   "cell_type": "markdown",
   "id": "5d322a93",
   "metadata": {},
   "source": [
    "### 학습/테스트 완료된 모델을 저장한다."
   ]
  },
  {
   "cell_type": "code",
   "execution_count": null,
   "id": "71e628c6",
   "metadata": {},
   "outputs": [],
   "source": [
    "torch.save(model, 'moonrockmodel.pth')"
   ]
  },
  {
   "cell_type": "markdown",
   "id": "9971fcce",
   "metadata": {},
   "source": [
    "### 완성된 모델을 사용하여 예측한다.\n",
    "\n",
    "저장한 모델을 불러온다."
   ]
  },
  {
   "cell_type": "code",
   "execution_count": null,
   "id": "f362a0b8",
   "metadata": {},
   "outputs": [],
   "source": [
    "device = torch.device('cuda' if torch.cuda.is_available() else 'cpu')\n",
    "model = torch.load('moonrockmodel.pth')"
   ]
  },
  {
   "cell_type": "markdown",
   "id": "a182a6c1",
   "metadata": {},
   "source": [
    "### (확인) 불러온 모델을 확인해 본다."
   ]
  },
  {
   "cell_type": "code",
   "execution_count": null,
   "id": "51175cf9",
   "metadata": {},
   "outputs": [],
   "source": [
    "print(model)"
   ]
  },
  {
   "cell_type": "markdown",
   "id": "29ce5d73",
   "metadata": {},
   "source": [
    "### 이미지 예측을 위해 predict_image() 함수를 만든다."
   ]
  },
  {
   "cell_type": "code",
   "execution_count": null,
   "id": "621b8892",
   "metadata": {},
   "outputs": [],
   "source": [
    "def predict_image(image):\n",
    "    image_tensor = t_transforms(image).float()\n",
    "    input = image_tensor.unsqueeze_(0)\n",
    "    input = input.to(device)\n",
    "    output = model(input)\n",
    "    index = output.data.numpy().argmax()\n",
    "\n",
    "    return index"
   ]
  },
  {
   "cell_type": "markdown",
   "id": "68718027",
   "metadata": {},
   "source": [
    "### 5개의 이미지를 임의로 가져와 예측해 본다."
   ]
  },
  {
   "cell_type": "code",
   "execution_count": null,
   "id": "37f1f9ed",
   "metadata": {},
   "outputs": [],
   "source": [
    "model.eval()\n",
    "\n",
    "to_pil = transforms.ToPILImage()\n",
    "images, labels = get_random_images(5)\n",
    "fig = plt.figure(figsize=(20, 20))\n",
    "classes = trainloader.dataset.classes\n",
    "\n",
    "for ii in range(len(images)):\n",
    "    image = to_pil(images[ii])\n",
    "    index= predict_image(image)\n",
    "    sub = fig.add_subplot(1, len(images), ii+1)\n",
    "    res = labels[ii].item() == index\n",
    "    sub.set_title(classes[index] + ':' + str(res))\n",
    "    plt.axis('off')\n",
    "    plt.imshow(image)\n",
    "plt.show()"
   ]
  }
 ],
 "metadata": {
  "kernelspec": {
   "display_name": ".venv",
   "language": "python",
   "name": "python3"
  },
  "language_info": {
   "codemirror_mode": {
    "name": "ipython",
    "version": 3
   },
   "file_extension": ".py",
   "mimetype": "text/x-python",
   "name": "python",
   "nbconvert_exporter": "python",
   "pygments_lexer": "ipython3",
   "version": "3.8.10"
  }
 },
 "nbformat": 4,
 "nbformat_minor": 5
}
